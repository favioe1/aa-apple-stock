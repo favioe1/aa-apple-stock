{
  "nbformat": 4,
  "nbformat_minor": 0,
  "metadata": {
    "colab": {
      "provenance": []
    },
    "kernelspec": {
      "name": "python3",
      "display_name": "Python 3"
    },
    "language_info": {
      "name": "python"
    }
  },
  "cells": [
    {
      "cell_type": "markdown",
      "source": [
        "# Importamos las librerías necesarias."
      ],
      "metadata": {
        "id": "VjTcGanYdWxi"
      }
    },
    {
      "cell_type": "code",
      "execution_count": null,
      "metadata": {
        "id": "O5tyQJE7U6Ag"
      },
      "outputs": [],
      "source": [
        "import pandas as pd\n",
        "import numpy as np\n",
        "import matplotlib.pyplot as plt\n",
        "import seaborn as sns"
      ]
    },
    {
      "cell_type": "code",
      "source": [
        "import warnings\n",
        "warnings.filterwarnings('ignore')"
      ],
      "metadata": {
        "id": "nskzxTj3y6xl"
      },
      "execution_count": null,
      "outputs": []
    },
    {
      "cell_type": "markdown",
      "source": [
        "# Importamos y exploramos los datos"
      ],
      "metadata": {
        "id": "tSF1EI1vdTMW"
      }
    },
    {
      "cell_type": "code",
      "source": [
        "df = pd.read_csv(\"/content/APPL_DATA.csv\")\n",
        "df.head()"
      ],
      "metadata": {
        "colab": {
          "base_uri": "https://localhost:8080/",
          "height": 206
        },
        "id": "nJCxsg7HZ93P",
        "outputId": "f61d032c-c901-47a2-9b13-44797ab755b5"
      },
      "execution_count": null,
      "outputs": [
        {
          "output_type": "execute_result",
          "data": {
            "text/plain": [
              "         Date      High       Low      Open     Close       Volume  Adj Close\n",
              "0  1980-12-12  0.128906  0.128348  0.128348  0.128348  469033600.0   0.100039\n",
              "1  1980-12-15  0.122210  0.121652  0.122210  0.121652  175884800.0   0.094820\n",
              "2  1980-12-16  0.113281  0.112723  0.113281  0.112723  105728000.0   0.087861\n",
              "3  1980-12-17  0.116071  0.115513  0.115513  0.115513   86441600.0   0.090035\n",
              "4  1980-12-18  0.119420  0.118862  0.118862  0.118862   73449600.0   0.092646"
            ],
            "text/html": [
              "\n",
              "  <div id=\"df-9194c010-2f5b-49f6-aec9-8317fcced41c\">\n",
              "    <div class=\"colab-df-container\">\n",
              "      <div>\n",
              "<style scoped>\n",
              "    .dataframe tbody tr th:only-of-type {\n",
              "        vertical-align: middle;\n",
              "    }\n",
              "\n",
              "    .dataframe tbody tr th {\n",
              "        vertical-align: top;\n",
              "    }\n",
              "\n",
              "    .dataframe thead th {\n",
              "        text-align: right;\n",
              "    }\n",
              "</style>\n",
              "<table border=\"1\" class=\"dataframe\">\n",
              "  <thead>\n",
              "    <tr style=\"text-align: right;\">\n",
              "      <th></th>\n",
              "      <th>Date</th>\n",
              "      <th>High</th>\n",
              "      <th>Low</th>\n",
              "      <th>Open</th>\n",
              "      <th>Close</th>\n",
              "      <th>Volume</th>\n",
              "      <th>Adj Close</th>\n",
              "    </tr>\n",
              "  </thead>\n",
              "  <tbody>\n",
              "    <tr>\n",
              "      <th>0</th>\n",
              "      <td>1980-12-12</td>\n",
              "      <td>0.128906</td>\n",
              "      <td>0.128348</td>\n",
              "      <td>0.128348</td>\n",
              "      <td>0.128348</td>\n",
              "      <td>469033600.0</td>\n",
              "      <td>0.100039</td>\n",
              "    </tr>\n",
              "    <tr>\n",
              "      <th>1</th>\n",
              "      <td>1980-12-15</td>\n",
              "      <td>0.122210</td>\n",
              "      <td>0.121652</td>\n",
              "      <td>0.122210</td>\n",
              "      <td>0.121652</td>\n",
              "      <td>175884800.0</td>\n",
              "      <td>0.094820</td>\n",
              "    </tr>\n",
              "    <tr>\n",
              "      <th>2</th>\n",
              "      <td>1980-12-16</td>\n",
              "      <td>0.113281</td>\n",
              "      <td>0.112723</td>\n",
              "      <td>0.113281</td>\n",
              "      <td>0.112723</td>\n",
              "      <td>105728000.0</td>\n",
              "      <td>0.087861</td>\n",
              "    </tr>\n",
              "    <tr>\n",
              "      <th>3</th>\n",
              "      <td>1980-12-17</td>\n",
              "      <td>0.116071</td>\n",
              "      <td>0.115513</td>\n",
              "      <td>0.115513</td>\n",
              "      <td>0.115513</td>\n",
              "      <td>86441600.0</td>\n",
              "      <td>0.090035</td>\n",
              "    </tr>\n",
              "    <tr>\n",
              "      <th>4</th>\n",
              "      <td>1980-12-18</td>\n",
              "      <td>0.119420</td>\n",
              "      <td>0.118862</td>\n",
              "      <td>0.118862</td>\n",
              "      <td>0.118862</td>\n",
              "      <td>73449600.0</td>\n",
              "      <td>0.092646</td>\n",
              "    </tr>\n",
              "  </tbody>\n",
              "</table>\n",
              "</div>\n",
              "      <button class=\"colab-df-convert\" onclick=\"convertToInteractive('df-9194c010-2f5b-49f6-aec9-8317fcced41c')\"\n",
              "              title=\"Convert this dataframe to an interactive table.\"\n",
              "              style=\"display:none;\">\n",
              "        \n",
              "  <svg xmlns=\"http://www.w3.org/2000/svg\" height=\"24px\"viewBox=\"0 0 24 24\"\n",
              "       width=\"24px\">\n",
              "    <path d=\"M0 0h24v24H0V0z\" fill=\"none\"/>\n",
              "    <path d=\"M18.56 5.44l.94 2.06.94-2.06 2.06-.94-2.06-.94-.94-2.06-.94 2.06-2.06.94zm-11 1L8.5 8.5l.94-2.06 2.06-.94-2.06-.94L8.5 2.5l-.94 2.06-2.06.94zm10 10l.94 2.06.94-2.06 2.06-.94-2.06-.94-.94-2.06-.94 2.06-2.06.94z\"/><path d=\"M17.41 7.96l-1.37-1.37c-.4-.4-.92-.59-1.43-.59-.52 0-1.04.2-1.43.59L10.3 9.45l-7.72 7.72c-.78.78-.78 2.05 0 2.83L4 21.41c.39.39.9.59 1.41.59.51 0 1.02-.2 1.41-.59l7.78-7.78 2.81-2.81c.8-.78.8-2.07 0-2.86zM5.41 20L4 18.59l7.72-7.72 1.47 1.35L5.41 20z\"/>\n",
              "  </svg>\n",
              "      </button>\n",
              "      \n",
              "  <style>\n",
              "    .colab-df-container {\n",
              "      display:flex;\n",
              "      flex-wrap:wrap;\n",
              "      gap: 12px;\n",
              "    }\n",
              "\n",
              "    .colab-df-convert {\n",
              "      background-color: #E8F0FE;\n",
              "      border: none;\n",
              "      border-radius: 50%;\n",
              "      cursor: pointer;\n",
              "      display: none;\n",
              "      fill: #1967D2;\n",
              "      height: 32px;\n",
              "      padding: 0 0 0 0;\n",
              "      width: 32px;\n",
              "    }\n",
              "\n",
              "    .colab-df-convert:hover {\n",
              "      background-color: #E2EBFA;\n",
              "      box-shadow: 0px 1px 2px rgba(60, 64, 67, 0.3), 0px 1px 3px 1px rgba(60, 64, 67, 0.15);\n",
              "      fill: #174EA6;\n",
              "    }\n",
              "\n",
              "    [theme=dark] .colab-df-convert {\n",
              "      background-color: #3B4455;\n",
              "      fill: #D2E3FC;\n",
              "    }\n",
              "\n",
              "    [theme=dark] .colab-df-convert:hover {\n",
              "      background-color: #434B5C;\n",
              "      box-shadow: 0px 1px 3px 1px rgba(0, 0, 0, 0.15);\n",
              "      filter: drop-shadow(0px 1px 2px rgba(0, 0, 0, 0.3));\n",
              "      fill: #FFFFFF;\n",
              "    }\n",
              "  </style>\n",
              "\n",
              "      <script>\n",
              "        const buttonEl =\n",
              "          document.querySelector('#df-9194c010-2f5b-49f6-aec9-8317fcced41c button.colab-df-convert');\n",
              "        buttonEl.style.display =\n",
              "          google.colab.kernel.accessAllowed ? 'block' : 'none';\n",
              "\n",
              "        async function convertToInteractive(key) {\n",
              "          const element = document.querySelector('#df-9194c010-2f5b-49f6-aec9-8317fcced41c');\n",
              "          const dataTable =\n",
              "            await google.colab.kernel.invokeFunction('convertToInteractive',\n",
              "                                                     [key], {});\n",
              "          if (!dataTable) return;\n",
              "\n",
              "          const docLinkHtml = 'Like what you see? Visit the ' +\n",
              "            '<a target=\"_blank\" href=https://colab.research.google.com/notebooks/data_table.ipynb>data table notebook</a>'\n",
              "            + ' to learn more about interactive tables.';\n",
              "          element.innerHTML = '';\n",
              "          dataTable['output_type'] = 'display_data';\n",
              "          await google.colab.output.renderOutput(dataTable, element);\n",
              "          const docLink = document.createElement('div');\n",
              "          docLink.innerHTML = docLinkHtml;\n",
              "          element.appendChild(docLink);\n",
              "        }\n",
              "      </script>\n",
              "    </div>\n",
              "  </div>\n",
              "  "
            ]
          },
          "metadata": {},
          "execution_count": 98
        }
      ]
    },
    {
      "cell_type": "code",
      "source": [
        "df.tail()"
      ],
      "metadata": {
        "colab": {
          "base_uri": "https://localhost:8080/",
          "height": 206
        },
        "id": "BJwobxoiaDXP",
        "outputId": "6ec71c7b-1a93-4f3a-9317-009192cd5643"
      },
      "execution_count": null,
      "outputs": [
        {
          "output_type": "execute_result",
          "data": {
            "text/plain": [
              "             Date        High         Low        Open       Close  \\\n",
              "10559  2022-10-28  157.500000  147.820007  148.199997  155.740005   \n",
              "10560  2022-10-31  154.240005  151.919998  153.160004  153.339996   \n",
              "10561  2022-11-01  155.449997  149.130005  155.080002  150.649994   \n",
              "10562  2022-11-02  152.169998  145.000000  148.949997  145.029999   \n",
              "10563  2022-11-03  142.794998  139.259995  142.059998  139.809296   \n",
              "\n",
              "            Volume   Adj Close  \n",
              "10559  164762400.0  155.740005  \n",
              "10560   97943200.0  153.339996  \n",
              "10561   80379300.0  150.649994  \n",
              "10562   93436100.0  145.029999  \n",
              "10563   62275031.0  139.809296  "
            ],
            "text/html": [
              "\n",
              "  <div id=\"df-18e30f17-1287-4495-8201-8efd9f1f0502\">\n",
              "    <div class=\"colab-df-container\">\n",
              "      <div>\n",
              "<style scoped>\n",
              "    .dataframe tbody tr th:only-of-type {\n",
              "        vertical-align: middle;\n",
              "    }\n",
              "\n",
              "    .dataframe tbody tr th {\n",
              "        vertical-align: top;\n",
              "    }\n",
              "\n",
              "    .dataframe thead th {\n",
              "        text-align: right;\n",
              "    }\n",
              "</style>\n",
              "<table border=\"1\" class=\"dataframe\">\n",
              "  <thead>\n",
              "    <tr style=\"text-align: right;\">\n",
              "      <th></th>\n",
              "      <th>Date</th>\n",
              "      <th>High</th>\n",
              "      <th>Low</th>\n",
              "      <th>Open</th>\n",
              "      <th>Close</th>\n",
              "      <th>Volume</th>\n",
              "      <th>Adj Close</th>\n",
              "    </tr>\n",
              "  </thead>\n",
              "  <tbody>\n",
              "    <tr>\n",
              "      <th>10559</th>\n",
              "      <td>2022-10-28</td>\n",
              "      <td>157.500000</td>\n",
              "      <td>147.820007</td>\n",
              "      <td>148.199997</td>\n",
              "      <td>155.740005</td>\n",
              "      <td>164762400.0</td>\n",
              "      <td>155.740005</td>\n",
              "    </tr>\n",
              "    <tr>\n",
              "      <th>10560</th>\n",
              "      <td>2022-10-31</td>\n",
              "      <td>154.240005</td>\n",
              "      <td>151.919998</td>\n",
              "      <td>153.160004</td>\n",
              "      <td>153.339996</td>\n",
              "      <td>97943200.0</td>\n",
              "      <td>153.339996</td>\n",
              "    </tr>\n",
              "    <tr>\n",
              "      <th>10561</th>\n",
              "      <td>2022-11-01</td>\n",
              "      <td>155.449997</td>\n",
              "      <td>149.130005</td>\n",
              "      <td>155.080002</td>\n",
              "      <td>150.649994</td>\n",
              "      <td>80379300.0</td>\n",
              "      <td>150.649994</td>\n",
              "    </tr>\n",
              "    <tr>\n",
              "      <th>10562</th>\n",
              "      <td>2022-11-02</td>\n",
              "      <td>152.169998</td>\n",
              "      <td>145.000000</td>\n",
              "      <td>148.949997</td>\n",
              "      <td>145.029999</td>\n",
              "      <td>93436100.0</td>\n",
              "      <td>145.029999</td>\n",
              "    </tr>\n",
              "    <tr>\n",
              "      <th>10563</th>\n",
              "      <td>2022-11-03</td>\n",
              "      <td>142.794998</td>\n",
              "      <td>139.259995</td>\n",
              "      <td>142.059998</td>\n",
              "      <td>139.809296</td>\n",
              "      <td>62275031.0</td>\n",
              "      <td>139.809296</td>\n",
              "    </tr>\n",
              "  </tbody>\n",
              "</table>\n",
              "</div>\n",
              "      <button class=\"colab-df-convert\" onclick=\"convertToInteractive('df-18e30f17-1287-4495-8201-8efd9f1f0502')\"\n",
              "              title=\"Convert this dataframe to an interactive table.\"\n",
              "              style=\"display:none;\">\n",
              "        \n",
              "  <svg xmlns=\"http://www.w3.org/2000/svg\" height=\"24px\"viewBox=\"0 0 24 24\"\n",
              "       width=\"24px\">\n",
              "    <path d=\"M0 0h24v24H0V0z\" fill=\"none\"/>\n",
              "    <path d=\"M18.56 5.44l.94 2.06.94-2.06 2.06-.94-2.06-.94-.94-2.06-.94 2.06-2.06.94zm-11 1L8.5 8.5l.94-2.06 2.06-.94-2.06-.94L8.5 2.5l-.94 2.06-2.06.94zm10 10l.94 2.06.94-2.06 2.06-.94-2.06-.94-.94-2.06-.94 2.06-2.06.94z\"/><path d=\"M17.41 7.96l-1.37-1.37c-.4-.4-.92-.59-1.43-.59-.52 0-1.04.2-1.43.59L10.3 9.45l-7.72 7.72c-.78.78-.78 2.05 0 2.83L4 21.41c.39.39.9.59 1.41.59.51 0 1.02-.2 1.41-.59l7.78-7.78 2.81-2.81c.8-.78.8-2.07 0-2.86zM5.41 20L4 18.59l7.72-7.72 1.47 1.35L5.41 20z\"/>\n",
              "  </svg>\n",
              "      </button>\n",
              "      \n",
              "  <style>\n",
              "    .colab-df-container {\n",
              "      display:flex;\n",
              "      flex-wrap:wrap;\n",
              "      gap: 12px;\n",
              "    }\n",
              "\n",
              "    .colab-df-convert {\n",
              "      background-color: #E8F0FE;\n",
              "      border: none;\n",
              "      border-radius: 50%;\n",
              "      cursor: pointer;\n",
              "      display: none;\n",
              "      fill: #1967D2;\n",
              "      height: 32px;\n",
              "      padding: 0 0 0 0;\n",
              "      width: 32px;\n",
              "    }\n",
              "\n",
              "    .colab-df-convert:hover {\n",
              "      background-color: #E2EBFA;\n",
              "      box-shadow: 0px 1px 2px rgba(60, 64, 67, 0.3), 0px 1px 3px 1px rgba(60, 64, 67, 0.15);\n",
              "      fill: #174EA6;\n",
              "    }\n",
              "\n",
              "    [theme=dark] .colab-df-convert {\n",
              "      background-color: #3B4455;\n",
              "      fill: #D2E3FC;\n",
              "    }\n",
              "\n",
              "    [theme=dark] .colab-df-convert:hover {\n",
              "      background-color: #434B5C;\n",
              "      box-shadow: 0px 1px 3px 1px rgba(0, 0, 0, 0.15);\n",
              "      filter: drop-shadow(0px 1px 2px rgba(0, 0, 0, 0.3));\n",
              "      fill: #FFFFFF;\n",
              "    }\n",
              "  </style>\n",
              "\n",
              "      <script>\n",
              "        const buttonEl =\n",
              "          document.querySelector('#df-18e30f17-1287-4495-8201-8efd9f1f0502 button.colab-df-convert');\n",
              "        buttonEl.style.display =\n",
              "          google.colab.kernel.accessAllowed ? 'block' : 'none';\n",
              "\n",
              "        async function convertToInteractive(key) {\n",
              "          const element = document.querySelector('#df-18e30f17-1287-4495-8201-8efd9f1f0502');\n",
              "          const dataTable =\n",
              "            await google.colab.kernel.invokeFunction('convertToInteractive',\n",
              "                                                     [key], {});\n",
              "          if (!dataTable) return;\n",
              "\n",
              "          const docLinkHtml = 'Like what you see? Visit the ' +\n",
              "            '<a target=\"_blank\" href=https://colab.research.google.com/notebooks/data_table.ipynb>data table notebook</a>'\n",
              "            + ' to learn more about interactive tables.';\n",
              "          element.innerHTML = '';\n",
              "          dataTable['output_type'] = 'display_data';\n",
              "          await google.colab.output.renderOutput(dataTable, element);\n",
              "          const docLink = document.createElement('div');\n",
              "          docLink.innerHTML = docLinkHtml;\n",
              "          element.appendChild(docLink);\n",
              "        }\n",
              "      </script>\n",
              "    </div>\n",
              "  </div>\n",
              "  "
            ]
          },
          "metadata": {},
          "execution_count": 99
        }
      ]
    },
    {
      "cell_type": "code",
      "source": [
        "df.set_index(\"Date\",inplace=True)\n",
        "df.head()"
      ],
      "metadata": {
        "colab": {
          "base_uri": "https://localhost:8080/",
          "height": 238
        },
        "id": "x3xOV8yuaMdj",
        "outputId": "93632cca-0c05-43a4-f484-e508d5776133"
      },
      "execution_count": null,
      "outputs": [
        {
          "output_type": "execute_result",
          "data": {
            "text/plain": [
              "                High       Low      Open     Close       Volume  Adj Close\n",
              "Date                                                                      \n",
              "1980-12-12  0.128906  0.128348  0.128348  0.128348  469033600.0   0.100039\n",
              "1980-12-15  0.122210  0.121652  0.122210  0.121652  175884800.0   0.094820\n",
              "1980-12-16  0.113281  0.112723  0.113281  0.112723  105728000.0   0.087861\n",
              "1980-12-17  0.116071  0.115513  0.115513  0.115513   86441600.0   0.090035\n",
              "1980-12-18  0.119420  0.118862  0.118862  0.118862   73449600.0   0.092646"
            ],
            "text/html": [
              "\n",
              "  <div id=\"df-7e1d9ff3-72d3-49db-8363-61a43163e67e\">\n",
              "    <div class=\"colab-df-container\">\n",
              "      <div>\n",
              "<style scoped>\n",
              "    .dataframe tbody tr th:only-of-type {\n",
              "        vertical-align: middle;\n",
              "    }\n",
              "\n",
              "    .dataframe tbody tr th {\n",
              "        vertical-align: top;\n",
              "    }\n",
              "\n",
              "    .dataframe thead th {\n",
              "        text-align: right;\n",
              "    }\n",
              "</style>\n",
              "<table border=\"1\" class=\"dataframe\">\n",
              "  <thead>\n",
              "    <tr style=\"text-align: right;\">\n",
              "      <th></th>\n",
              "      <th>High</th>\n",
              "      <th>Low</th>\n",
              "      <th>Open</th>\n",
              "      <th>Close</th>\n",
              "      <th>Volume</th>\n",
              "      <th>Adj Close</th>\n",
              "    </tr>\n",
              "    <tr>\n",
              "      <th>Date</th>\n",
              "      <th></th>\n",
              "      <th></th>\n",
              "      <th></th>\n",
              "      <th></th>\n",
              "      <th></th>\n",
              "      <th></th>\n",
              "    </tr>\n",
              "  </thead>\n",
              "  <tbody>\n",
              "    <tr>\n",
              "      <th>1980-12-12</th>\n",
              "      <td>0.128906</td>\n",
              "      <td>0.128348</td>\n",
              "      <td>0.128348</td>\n",
              "      <td>0.128348</td>\n",
              "      <td>469033600.0</td>\n",
              "      <td>0.100039</td>\n",
              "    </tr>\n",
              "    <tr>\n",
              "      <th>1980-12-15</th>\n",
              "      <td>0.122210</td>\n",
              "      <td>0.121652</td>\n",
              "      <td>0.122210</td>\n",
              "      <td>0.121652</td>\n",
              "      <td>175884800.0</td>\n",
              "      <td>0.094820</td>\n",
              "    </tr>\n",
              "    <tr>\n",
              "      <th>1980-12-16</th>\n",
              "      <td>0.113281</td>\n",
              "      <td>0.112723</td>\n",
              "      <td>0.113281</td>\n",
              "      <td>0.112723</td>\n",
              "      <td>105728000.0</td>\n",
              "      <td>0.087861</td>\n",
              "    </tr>\n",
              "    <tr>\n",
              "      <th>1980-12-17</th>\n",
              "      <td>0.116071</td>\n",
              "      <td>0.115513</td>\n",
              "      <td>0.115513</td>\n",
              "      <td>0.115513</td>\n",
              "      <td>86441600.0</td>\n",
              "      <td>0.090035</td>\n",
              "    </tr>\n",
              "    <tr>\n",
              "      <th>1980-12-18</th>\n",
              "      <td>0.119420</td>\n",
              "      <td>0.118862</td>\n",
              "      <td>0.118862</td>\n",
              "      <td>0.118862</td>\n",
              "      <td>73449600.0</td>\n",
              "      <td>0.092646</td>\n",
              "    </tr>\n",
              "  </tbody>\n",
              "</table>\n",
              "</div>\n",
              "      <button class=\"colab-df-convert\" onclick=\"convertToInteractive('df-7e1d9ff3-72d3-49db-8363-61a43163e67e')\"\n",
              "              title=\"Convert this dataframe to an interactive table.\"\n",
              "              style=\"display:none;\">\n",
              "        \n",
              "  <svg xmlns=\"http://www.w3.org/2000/svg\" height=\"24px\"viewBox=\"0 0 24 24\"\n",
              "       width=\"24px\">\n",
              "    <path d=\"M0 0h24v24H0V0z\" fill=\"none\"/>\n",
              "    <path d=\"M18.56 5.44l.94 2.06.94-2.06 2.06-.94-2.06-.94-.94-2.06-.94 2.06-2.06.94zm-11 1L8.5 8.5l.94-2.06 2.06-.94-2.06-.94L8.5 2.5l-.94 2.06-2.06.94zm10 10l.94 2.06.94-2.06 2.06-.94-2.06-.94-.94-2.06-.94 2.06-2.06.94z\"/><path d=\"M17.41 7.96l-1.37-1.37c-.4-.4-.92-.59-1.43-.59-.52 0-1.04.2-1.43.59L10.3 9.45l-7.72 7.72c-.78.78-.78 2.05 0 2.83L4 21.41c.39.39.9.59 1.41.59.51 0 1.02-.2 1.41-.59l7.78-7.78 2.81-2.81c.8-.78.8-2.07 0-2.86zM5.41 20L4 18.59l7.72-7.72 1.47 1.35L5.41 20z\"/>\n",
              "  </svg>\n",
              "      </button>\n",
              "      \n",
              "  <style>\n",
              "    .colab-df-container {\n",
              "      display:flex;\n",
              "      flex-wrap:wrap;\n",
              "      gap: 12px;\n",
              "    }\n",
              "\n",
              "    .colab-df-convert {\n",
              "      background-color: #E8F0FE;\n",
              "      border: none;\n",
              "      border-radius: 50%;\n",
              "      cursor: pointer;\n",
              "      display: none;\n",
              "      fill: #1967D2;\n",
              "      height: 32px;\n",
              "      padding: 0 0 0 0;\n",
              "      width: 32px;\n",
              "    }\n",
              "\n",
              "    .colab-df-convert:hover {\n",
              "      background-color: #E2EBFA;\n",
              "      box-shadow: 0px 1px 2px rgba(60, 64, 67, 0.3), 0px 1px 3px 1px rgba(60, 64, 67, 0.15);\n",
              "      fill: #174EA6;\n",
              "    }\n",
              "\n",
              "    [theme=dark] .colab-df-convert {\n",
              "      background-color: #3B4455;\n",
              "      fill: #D2E3FC;\n",
              "    }\n",
              "\n",
              "    [theme=dark] .colab-df-convert:hover {\n",
              "      background-color: #434B5C;\n",
              "      box-shadow: 0px 1px 3px 1px rgba(0, 0, 0, 0.15);\n",
              "      filter: drop-shadow(0px 1px 2px rgba(0, 0, 0, 0.3));\n",
              "      fill: #FFFFFF;\n",
              "    }\n",
              "  </style>\n",
              "\n",
              "      <script>\n",
              "        const buttonEl =\n",
              "          document.querySelector('#df-7e1d9ff3-72d3-49db-8363-61a43163e67e button.colab-df-convert');\n",
              "        buttonEl.style.display =\n",
              "          google.colab.kernel.accessAllowed ? 'block' : 'none';\n",
              "\n",
              "        async function convertToInteractive(key) {\n",
              "          const element = document.querySelector('#df-7e1d9ff3-72d3-49db-8363-61a43163e67e');\n",
              "          const dataTable =\n",
              "            await google.colab.kernel.invokeFunction('convertToInteractive',\n",
              "                                                     [key], {});\n",
              "          if (!dataTable) return;\n",
              "\n",
              "          const docLinkHtml = 'Like what you see? Visit the ' +\n",
              "            '<a target=\"_blank\" href=https://colab.research.google.com/notebooks/data_table.ipynb>data table notebook</a>'\n",
              "            + ' to learn more about interactive tables.';\n",
              "          element.innerHTML = '';\n",
              "          dataTable['output_type'] = 'display_data';\n",
              "          await google.colab.output.renderOutput(dataTable, element);\n",
              "          const docLink = document.createElement('div');\n",
              "          docLink.innerHTML = docLinkHtml;\n",
              "          element.appendChild(docLink);\n",
              "        }\n",
              "      </script>\n",
              "    </div>\n",
              "  </div>\n",
              "  "
            ]
          },
          "metadata": {},
          "execution_count": 100
        }
      ]
    },
    {
      "cell_type": "markdown",
      "source": [
        "A continuación, creamos una nueva columna dentro del DataFrame la cual contendrá el valor medio de cada medio año. Al observar la gráfica, se pueden apreciar varios outliers visibles, por lo cual enfocarse en la media ayuda para obtener una vista general de cada período."
      ],
      "metadata": {
        "id": "mC6GNx8N9Gpo"
      }
    },
    {
      "cell_type": "code",
      "source": [
        "df['Volume Mean'] = df['Volume'].rolling(window=180).mean()\n",
        "df[['Volume','Volume Mean']].plot(figsize=(12,5)).autoscale(axis='x',tight=True)"
      ],
      "metadata": {
        "colab": {
          "base_uri": "https://localhost:8080/",
          "height": 345
        },
        "id": "N5kE_3oOaW9t",
        "outputId": "e3330796-6393-4ee1-ea35-664533b69455"
      },
      "execution_count": null,
      "outputs": [
        {
          "output_type": "display_data",
          "data": {
            "text/plain": [
              "<Figure size 864x360 with 1 Axes>"
            ],
            "image/png": "[encoded data removed]"
          },
          "metadata": {
            "needs_background": "light"
          }
        }
      ]
    },
    {
      "cell_type": "markdown",
      "source": [
        "Consultamos la función implícita del DataFrame \"nlargest()\" para obtener los 10 valores más grandes dentro de la columna de Volume además de su índice dentro del DataFrame."
      ],
      "metadata": {
        "id": "Jhnbwlsz9mlR"
      }
    },
    {
      "cell_type": "code",
      "source": [
        "df['Volume'].nlargest(10)"
      ],
      "metadata": {
        "colab": {
          "base_uri": "https://localhost:8080/"
        },
        "id": "z7MNXSbUbDB7",
        "outputId": "f331bef0-a070-4010-984d-c346fa35a262"
      },
      "execution_count": null,
      "outputs": [
        {
          "output_type": "execute_result",
          "data": {
            "text/plain": [
              "Date\n",
              "2000-09-29    7.421641e+09\n",
              "1997-08-06    4.190480e+09\n",
              "1997-08-07    3.755438e+09\n",
              "2008-01-23    3.372970e+09\n",
              "1999-09-21    3.357558e+09\n",
              "2007-01-09    3.349298e+09\n",
              "2005-01-13    3.164717e+09\n",
              "2007-01-10    2.952880e+09\n",
              "1983-09-23    2.832346e+09\n",
              "2004-10-14    2.768427e+09\n",
              "Name: Volume, dtype: float64"
            ]
          },
          "metadata": {},
          "execution_count": 25
        }
      ]
    },
    {
      "cell_type": "markdown",
      "source": [
        "Al parecer, el 29 de Septiembre del 2000 fue una fecha muy importante para la historia de Apple, siendo un día en el cual el precio de la bolsa cayó significativamente.\n",
        "\n",
        "El efecto que esto tuvo en la compañia fue una venta masiva de productos descontados, lo cual infló de manera artificial el valor de la compañia ante los accionistas."
      ],
      "metadata": {
        "id": "g273GFcl9yrp"
      }
    },
    {
      "cell_type": "code",
      "source": [
        "df.loc['2000-09-26':'2000-10-02']"
      ],
      "metadata": {
        "colab": {
          "base_uri": "https://localhost:8080/",
          "height": 238
        },
        "id": "L5OCl0VQbUaa",
        "outputId": "6c4c4e96-4a98-433f-89e5-1c6ec2e515ce"
      },
      "execution_count": null,
      "outputs": [
        {
          "output_type": "execute_result",
          "data": {
            "text/plain": [
              "                High       Low      Open     Close        Volume  Adj Close  \\\n",
              "Date                                                                          \n",
              "2000-09-26  0.977679  0.917411  0.952009  0.918527  2.909368e+08   0.784268   \n",
              "2000-09-27  0.941964  0.861607  0.924107  0.873884  4.022592e+08   0.746150   \n",
              "2000-09-28  0.960938  0.859375  0.880580  0.955357  9.795856e+08   0.815714   \n",
              "2000-09-29  0.517857  0.453125  0.503348  0.459821  7.421641e+09   0.392610   \n",
              "2000-10-02  0.477679  0.419643  0.476563  0.433036  2.424789e+09   0.369740   \n",
              "\n",
              "             Volume Mean  \n",
              "Date                      \n",
              "2000-09-26  3.815817e+08  \n",
              "2000-09-27  3.813635e+08  \n",
              "2000-09-28  3.813830e+08  \n",
              "2000-09-29  4.168772e+08  \n",
              "2000-10-02  4.281795e+08  "
            ],
            "text/html": [
              "\n",
              "  <div id=\"df-efe47587-2335-41c6-8691-47ca5ff525ea\">\n",
              "    <div class=\"colab-df-container\">\n",
              "      <div>\n",
              "<style scoped>\n",
              "    .dataframe tbody tr th:only-of-type {\n",
              "        vertical-align: middle;\n",
              "    }\n",
              "\n",
              "    .dataframe tbody tr th {\n",
              "        vertical-align: top;\n",
              "    }\n",
              "\n",
              "    .dataframe thead th {\n",
              "        text-align: right;\n",
              "    }\n",
              "</style>\n",
              "<table border=\"1\" class=\"dataframe\">\n",
              "  <thead>\n",
              "    <tr style=\"text-align: right;\">\n",
              "      <th></th>\n",
              "      <th>High</th>\n",
              "      <th>Low</th>\n",
              "      <th>Open</th>\n",
              "      <th>Close</th>\n",
              "      <th>Volume</th>\n",
              "      <th>Adj Close</th>\n",
              "      <th>Volume Mean</th>\n",
              "    </tr>\n",
              "    <tr>\n",
              "      <th>Date</th>\n",
              "      <th></th>\n",
              "      <th></th>\n",
              "      <th></th>\n",
              "      <th></th>\n",
              "      <th></th>\n",
              "      <th></th>\n",
              "      <th></th>\n",
              "    </tr>\n",
              "  </thead>\n",
              "  <tbody>\n",
              "    <tr>\n",
              "      <th>2000-09-26</th>\n",
              "      <td>0.977679</td>\n",
              "      <td>0.917411</td>\n",
              "      <td>0.952009</td>\n",
              "      <td>0.918527</td>\n",
              "      <td>2.909368e+08</td>\n",
              "      <td>0.784268</td>\n",
              "      <td>3.815817e+08</td>\n",
              "    </tr>\n",
              "    <tr>\n",
              "      <th>2000-09-27</th>\n",
              "      <td>0.941964</td>\n",
              "      <td>0.861607</td>\n",
              "      <td>0.924107</td>\n",
              "      <td>0.873884</td>\n",
              "      <td>4.022592e+08</td>\n",
              "      <td>0.746150</td>\n",
              "      <td>3.813635e+08</td>\n",
              "    </tr>\n",
              "    <tr>\n",
              "      <th>2000-09-28</th>\n",
              "      <td>0.960938</td>\n",
              "      <td>0.859375</td>\n",
              "      <td>0.880580</td>\n",
              "      <td>0.955357</td>\n",
              "      <td>9.795856e+08</td>\n",
              "      <td>0.815714</td>\n",
              "      <td>3.813830e+08</td>\n",
              "    </tr>\n",
              "    <tr>\n",
              "      <th>2000-09-29</th>\n",
              "      <td>0.517857</td>\n",
              "      <td>0.453125</td>\n",
              "      <td>0.503348</td>\n",
              "      <td>0.459821</td>\n",
              "      <td>7.421641e+09</td>\n",
              "      <td>0.392610</td>\n",
              "      <td>4.168772e+08</td>\n",
              "    </tr>\n",
              "    <tr>\n",
              "      <th>2000-10-02</th>\n",
              "      <td>0.477679</td>\n",
              "      <td>0.419643</td>\n",
              "      <td>0.476563</td>\n",
              "      <td>0.433036</td>\n",
              "      <td>2.424789e+09</td>\n",
              "      <td>0.369740</td>\n",
              "      <td>4.281795e+08</td>\n",
              "    </tr>\n",
              "  </tbody>\n",
              "</table>\n",
              "</div>\n",
              "      <button class=\"colab-df-convert\" onclick=\"convertToInteractive('df-efe47587-2335-41c6-8691-47ca5ff525ea')\"\n",
              "              title=\"Convert this dataframe to an interactive table.\"\n",
              "              style=\"display:none;\">\n",
              "        \n",
              "  <svg xmlns=\"http://www.w3.org/2000/svg\" height=\"24px\"viewBox=\"0 0 24 24\"\n",
              "       width=\"24px\">\n",
              "    <path d=\"M0 0h24v24H0V0z\" fill=\"none\"/>\n",
              "    <path d=\"M18.56 5.44l.94 2.06.94-2.06 2.06-.94-2.06-.94-.94-2.06-.94 2.06-2.06.94zm-11 1L8.5 8.5l.94-2.06 2.06-.94-2.06-.94L8.5 2.5l-.94 2.06-2.06.94zm10 10l.94 2.06.94-2.06 2.06-.94-2.06-.94-.94-2.06-.94 2.06-2.06.94z\"/><path d=\"M17.41 7.96l-1.37-1.37c-.4-.4-.92-.59-1.43-.59-.52 0-1.04.2-1.43.59L10.3 9.45l-7.72 7.72c-.78.78-.78 2.05 0 2.83L4 21.41c.39.39.9.59 1.41.59.51 0 1.02-.2 1.41-.59l7.78-7.78 2.81-2.81c.8-.78.8-2.07 0-2.86zM5.41 20L4 18.59l7.72-7.72 1.47 1.35L5.41 20z\"/>\n",
              "  </svg>\n",
              "      </button>\n",
              "      \n",
              "  <style>\n",
              "    .colab-df-container {\n",
              "      display:flex;\n",
              "      flex-wrap:wrap;\n",
              "      gap: 12px;\n",
              "    }\n",
              "\n",
              "    .colab-df-convert {\n",
              "      background-color: #E8F0FE;\n",
              "      border: none;\n",
              "      border-radius: 50%;\n",
              "      cursor: pointer;\n",
              "      display: none;\n",
              "      fill: #1967D2;\n",
              "      height: 32px;\n",
              "      padding: 0 0 0 0;\n",
              "      width: 32px;\n",
              "    }\n",
              "\n",
              "    .colab-df-convert:hover {\n",
              "      background-color: #E2EBFA;\n",
              "      box-shadow: 0px 1px 2px rgba(60, 64, 67, 0.3), 0px 1px 3px 1px rgba(60, 64, 67, 0.15);\n",
              "      fill: #174EA6;\n",
              "    }\n",
              "\n",
              "    [theme=dark] .colab-df-convert {\n",
              "      background-color: #3B4455;\n",
              "      fill: #D2E3FC;\n",
              "    }\n",
              "\n",
              "    [theme=dark] .colab-df-convert:hover {\n",
              "      background-color: #434B5C;\n",
              "      box-shadow: 0px 1px 3px 1px rgba(0, 0, 0, 0.15);\n",
              "      filter: drop-shadow(0px 1px 2px rgba(0, 0, 0, 0.3));\n",
              "      fill: #FFFFFF;\n",
              "    }\n",
              "  </style>\n",
              "\n",
              "      <script>\n",
              "        const buttonEl =\n",
              "          document.querySelector('#df-efe47587-2335-41c6-8691-47ca5ff525ea button.colab-df-convert');\n",
              "        buttonEl.style.display =\n",
              "          google.colab.kernel.accessAllowed ? 'block' : 'none';\n",
              "\n",
              "        async function convertToInteractive(key) {\n",
              "          const element = document.querySelector('#df-efe47587-2335-41c6-8691-47ca5ff525ea');\n",
              "          const dataTable =\n",
              "            await google.colab.kernel.invokeFunction('convertToInteractive',\n",
              "                                                     [key], {});\n",
              "          if (!dataTable) return;\n",
              "\n",
              "          const docLinkHtml = 'Like what you see? Visit the ' +\n",
              "            '<a target=\"_blank\" href=https://colab.research.google.com/notebooks/data_table.ipynb>data table notebook</a>'\n",
              "            + ' to learn more about interactive tables.';\n",
              "          element.innerHTML = '';\n",
              "          dataTable['output_type'] = 'display_data';\n",
              "          await google.colab.output.renderOutput(dataTable, element);\n",
              "          const docLink = document.createElement('div');\n",
              "          docLink.innerHTML = docLinkHtml;\n",
              "          element.appendChild(docLink);\n",
              "        }\n",
              "      </script>\n",
              "    </div>\n",
              "  </div>\n",
              "  "
            ]
          },
          "metadata": {},
          "execution_count": 103
        }
      ]
    },
    {
      "cell_type": "markdown",
      "source": [
        "# Seleccionamos nuestras variables dependiente e independientes"
      ],
      "metadata": {
        "id": "YQYmKmaxfYyQ"
      }
    },
    {
      "cell_type": "code",
      "source": [
        "X = df.iloc[:,[0,1,2,3,5]] #Valores de Bolsa\n",
        "Y = df.iloc[:,4] #Volumen de ventas"
      ],
      "metadata": {
        "id": "MMUHb84xfj9c"
      },
      "execution_count": null,
      "outputs": []
    },
    {
      "cell_type": "markdown",
      "source": [
        "# Generamos el modelo de predicción"
      ],
      "metadata": {
        "id": "ACGhFhiIdo0q"
      }
    },
    {
      "cell_type": "code",
      "source": [
        "from sklearn.model_selection import train_test_split\n",
        "X_train, X_test, y_train, y_test = train_test_split(X, Y, test_size=0.33, random_state=42)"
      ],
      "metadata": {
        "id": "K8wgTgb1fK44"
      },
      "execution_count": null,
      "outputs": []
    },
    {
      "cell_type": "markdown",
      "source": [
        "Después de separar los datos, instanciamos nuestro modelo predicitivo, que en este caso será el de Gaussian Naive Bayes.\n",
        "\n",
        "Este modelo de clasificación y predicción basado en los teoremas de Naive Bayes usa especulaciones fuertes para generar resultados bastante certeros."
      ],
      "metadata": {
        "id": "--z6m5lO-Pen"
      }
    },
    {
      "cell_type": "code",
      "source": [
        "from sklearn.naive_bayes import GaussianNB\n",
        "clf = GaussianNB().fit(X_train, y_train)"
      ],
      "metadata": {
        "id": "n_ref1ahds4B"
      },
      "execution_count": null,
      "outputs": []
    },
    {
      "cell_type": "markdown",
      "source": [
        "Corremos la función de score y obtenemos una puntuación bastante buena, por lo que continuamos con las predicciones."
      ],
      "metadata": {
        "id": "et9zBkoq-nNH"
      }
    },
    {
      "cell_type": "code",
      "source": [
        "clf.score(X_train, y_train)"
      ],
      "metadata": {
        "colab": {
          "base_uri": "https://localhost:8080/"
        },
        "id": "sDc83eBjp2GO",
        "outputId": "577600c9-c441-44f2-b040-f34e22fcd2f9"
      },
      "execution_count": null,
      "outputs": [
        {
          "output_type": "execute_result",
          "data": {
            "text/plain": [
              "0.9191747915783524"
            ]
          },
          "metadata": {},
          "execution_count": 30
        }
      ]
    },
    {
      "cell_type": "markdown",
      "source": [
        "# Construir y analizar predicciones"
      ],
      "metadata": {
        "id": "jApO5iWlppB8"
      }
    },
    {
      "cell_type": "markdown",
      "source": [
        "Creamos una serie de predicciones para ser alojadas en un DataFrame para su graficación.\n",
        "\n",
        "Estas predicciones usan los valores independientes para generar factores posibles de la bolsa de valores y como estos pueden impactar el volumen neto de ventas que tiene la empresa.\n",
        "\n",
        "La relación es que conforme un valor importante baje o suba, las ventas fluctuaran para acomodar el valor percebido de la empresa ante el mundo inversionista."
      ],
      "metadata": {
        "id": "btHWhaAP-uAe"
      }
    },
    {
      "cell_type": "code",
      "source": [
        "df_2 = pd.DataFrame(index=[\"Valor medio de variables\",\"Valor alto de variables\",\"Valor bajo de variables\",\n",
        "                           \"Valor de variable 1 bajo\",\"Valor de variable 2 bajo\",\"Valor de variable 3 bajo\",\"Valor de variable 4 bajo\",\n",
        "                           \"Valor de variable 5 bajo\",\"Valor de variable 1 alto\",\"Valor de variable 2 alto\",\"Valor de variable 3 alto\",\n",
        "                           \"Valor de variable 4 alto\",\"Valor de variable 5 alto\"], columns=[\"High\",\"Low\",\"Open\",\"Close\",\"Adj Close\", \"Prediction\"])\n",
        "\n",
        "df_2.loc['Valor medio de variables'] = pd.Series({'High':0.5, 'Low':0.5, 'Open':0.5, 'Close':0.5, 'Adj Close':0.5, 'Prediction':float(clf.predict([[0.5, 0.5, 0.5, 0.5, 0.5]]))})\n",
        "df_2.loc['Valor alto de variables'] = pd.Series({'High':0.9, 'Low':0.9, 'Open':0.9, 'Close':0.9, 'Adj Close':0.9, 'Prediction':float(clf.predict([[0.9, 0.9, 0.9, 0.9, 0.9]]))})\n",
        "df_2.loc['Valor bajo de variables'] = pd.Series({'High':0.2, 'Low':0.2, 'Open':0.2, 'Close':0.2, 'Adj Close':0.2, 'Prediction':float(clf.predict([[0.2, 0.2, 0.2, 0.2, 0.2]]))})\n",
        "df_2.loc['Valor de variable 1 bajo'] = pd.Series({'High':0.2, 'Low':0.5, 'Open':0.5, 'Close':0.5, 'Adj Close':0.5, 'Prediction':float(clf.predict([[0.2, 0.5, 0.5, 0.5, 0.5]]))})\n",
        "df_2.loc['Valor de variable 2 bajo'] = pd.Series({'High':0.5, 'Low':0.2, 'Open':0.5, 'Close':0.5, 'Adj Close':0.5, 'Prediction':float(clf.predict([[0.5, 0.2, 0.5, 0.5, 0.5]]))})\n",
        "df_2.loc['Valor de variable 3 bajo'] = pd.Series({'High':0.5, 'Low':0.5, 'Open':0.2, 'Close':0.5, 'Adj Close':0.5, 'Prediction':float(clf.predict([[0.5, 0.5, 0.2, 0.5, 0.5]]))})\n",
        "df_2.loc['Valor de variable 4 bajo'] = pd.Series({'High':0.5, 'Low':0.5, 'Open':0.5, 'Close':0.2, 'Adj Close':0.5, 'Prediction':float(clf.predict([[0.5, 0.5, 0.5, 0.2, 0.5]]))})\n",
        "df_2.loc['Valor de variable 5 bajo'] = pd.Series({'High':0.5, 'Low':0.5, 'Open':0.5, 'Close':0.5, 'Adj Close':0.2, 'Prediction':float(clf.predict([[0.5, 0.5, 0.5, 0.5, 0.2]]))})\n",
        "df_2.loc['Valor de variable 1 alto'] = pd.Series({'High':0.9, 'Low':0.5, 'Open':0.5, 'Close':0.5, 'Adj Close':0.5, 'Prediction':float(clf.predict([[0.9, 0.5, 0.5, 0.5, 0.5]]))})\n",
        "df_2.loc['Valor de variable 2 alto'] = pd.Series({'High':0.5, 'Low':0.9, 'Open':0.5, 'Close':0.5, 'Adj Close':0.5, 'Prediction':float(clf.predict([[0.5, 0.9, 0.5, 0.5, 0.5]]))})\n",
        "df_2.loc['Valor de variable 3 alto'] = pd.Series({'High':0.5, 'Low':0.5, 'Open':0.9, 'Close':0.5, 'Adj Close':0.5, 'Prediction':float(clf.predict([[0.5, 0.5, 0.9, 0.5, 0.5]]))})\n",
        "df_2.loc['Valor de variable 4 alto'] = pd.Series({'High':0.5, 'Low':0.5, 'Open':0.5, 'Close':0.9, 'Adj Close':0.5, 'Prediction':float(clf.predict([[0.5, 0.5, 0.5, 0.9, 0.5]]))})\n",
        "df_2.loc['Valor de variable 5 alto'] = pd.Series({'High':0.5, 'Low':0.5, 'Open':0.5, 'Close':0.5, 'Adj Close':0.9, 'Prediction':float(clf.predict([[0.5, 0.5, 0.5, 0.5, 0.9]]))})\n",
        "\n",
        "df_2.head()"
      ],
      "metadata": {
        "id": "DGOi220ZvRNq",
        "colab": {
          "base_uri": "https://localhost:8080/",
          "height": 206
        },
        "outputId": "b001b0a0-bd37-451c-f9f0-6cb19a74e137"
      },
      "execution_count": null,
      "outputs": [
        {
          "output_type": "execute_result",
          "data": {
            "text/plain": [
              "                         High  Low Open Close Adj Close   Prediction\n",
              "Valor medio de variables  0.5  0.5  0.5   0.5       0.5   56291200.0\n",
              "Valor alto de variables   0.9  0.9  0.9   0.9       0.9  225433600.0\n",
              "Valor bajo de variables   0.2  0.2  0.2   0.2       0.2  180118400.0\n",
              "Valor de variable 1 bajo  0.2  0.5  0.5   0.5       0.5  218142400.0\n",
              "Valor de variable 2 bajo  0.5  0.2  0.5   0.5       0.5  218142400.0"
            ],
            "text/html": [
              "\n",
              "  <div id=\"df-41c95cff-3094-41ed-bbf6-758fe7d864a4\">\n",
              "    <div class=\"colab-df-container\">\n",
              "      <div>\n",
              "<style scoped>\n",
              "    .dataframe tbody tr th:only-of-type {\n",
              "        vertical-align: middle;\n",
              "    }\n",
              "\n",
              "    .dataframe tbody tr th {\n",
              "        vertical-align: top;\n",
              "    }\n",
              "\n",
              "    .dataframe thead th {\n",
              "        text-align: right;\n",
              "    }\n",
              "</style>\n",
              "<table border=\"1\" class=\"dataframe\">\n",
              "  <thead>\n",
              "    <tr style=\"text-align: right;\">\n",
              "      <th></th>\n",
              "      <th>High</th>\n",
              "      <th>Low</th>\n",
              "      <th>Open</th>\n",
              "      <th>Close</th>\n",
              "      <th>Adj Close</th>\n",
              "      <th>Prediction</th>\n",
              "    </tr>\n",
              "  </thead>\n",
              "  <tbody>\n",
              "    <tr>\n",
              "      <th>Valor medio de variables</th>\n",
              "      <td>0.5</td>\n",
              "      <td>0.5</td>\n",
              "      <td>0.5</td>\n",
              "      <td>0.5</td>\n",
              "      <td>0.5</td>\n",
              "      <td>56291200.0</td>\n",
              "    </tr>\n",
              "    <tr>\n",
              "      <th>Valor alto de variables</th>\n",
              "      <td>0.9</td>\n",
              "      <td>0.9</td>\n",
              "      <td>0.9</td>\n",
              "      <td>0.9</td>\n",
              "      <td>0.9</td>\n",
              "      <td>225433600.0</td>\n",
              "    </tr>\n",
              "    <tr>\n",
              "      <th>Valor bajo de variables</th>\n",
              "      <td>0.2</td>\n",
              "      <td>0.2</td>\n",
              "      <td>0.2</td>\n",
              "      <td>0.2</td>\n",
              "      <td>0.2</td>\n",
              "      <td>180118400.0</td>\n",
              "    </tr>\n",
              "    <tr>\n",
              "      <th>Valor de variable 1 bajo</th>\n",
              "      <td>0.2</td>\n",
              "      <td>0.5</td>\n",
              "      <td>0.5</td>\n",
              "      <td>0.5</td>\n",
              "      <td>0.5</td>\n",
              "      <td>218142400.0</td>\n",
              "    </tr>\n",
              "    <tr>\n",
              "      <th>Valor de variable 2 bajo</th>\n",
              "      <td>0.5</td>\n",
              "      <td>0.2</td>\n",
              "      <td>0.5</td>\n",
              "      <td>0.5</td>\n",
              "      <td>0.5</td>\n",
              "      <td>218142400.0</td>\n",
              "    </tr>\n",
              "  </tbody>\n",
              "</table>\n",
              "</div>\n",
              "      <button class=\"colab-df-convert\" onclick=\"convertToInteractive('df-41c95cff-3094-41ed-bbf6-758fe7d864a4')\"\n",
              "              title=\"Convert this dataframe to an interactive table.\"\n",
              "              style=\"display:none;\">\n",
              "        \n",
              "  <svg xmlns=\"http://www.w3.org/2000/svg\" height=\"24px\"viewBox=\"0 0 24 24\"\n",
              "       width=\"24px\">\n",
              "    <path d=\"M0 0h24v24H0V0z\" fill=\"none\"/>\n",
              "    <path d=\"M18.56 5.44l.94 2.06.94-2.06 2.06-.94-2.06-.94-.94-2.06-.94 2.06-2.06.94zm-11 1L8.5 8.5l.94-2.06 2.06-.94-2.06-.94L8.5 2.5l-.94 2.06-2.06.94zm10 10l.94 2.06.94-2.06 2.06-.94-2.06-.94-.94-2.06-.94 2.06-2.06.94z\"/><path d=\"M17.41 7.96l-1.37-1.37c-.4-.4-.92-.59-1.43-.59-.52 0-1.04.2-1.43.59L10.3 9.45l-7.72 7.72c-.78.78-.78 2.05 0 2.83L4 21.41c.39.39.9.59 1.41.59.51 0 1.02-.2 1.41-.59l7.78-7.78 2.81-2.81c.8-.78.8-2.07 0-2.86zM5.41 20L4 18.59l7.72-7.72 1.47 1.35L5.41 20z\"/>\n",
              "  </svg>\n",
              "      </button>\n",
              "      \n",
              "  <style>\n",
              "    .colab-df-container {\n",
              "      display:flex;\n",
              "      flex-wrap:wrap;\n",
              "      gap: 12px;\n",
              "    }\n",
              "\n",
              "    .colab-df-convert {\n",
              "      background-color: #E8F0FE;\n",
              "      border: none;\n",
              "      border-radius: 50%;\n",
              "      cursor: pointer;\n",
              "      display: none;\n",
              "      fill: #1967D2;\n",
              "      height: 32px;\n",
              "      padding: 0 0 0 0;\n",
              "      width: 32px;\n",
              "    }\n",
              "\n",
              "    .colab-df-convert:hover {\n",
              "      background-color: #E2EBFA;\n",
              "      box-shadow: 0px 1px 2px rgba(60, 64, 67, 0.3), 0px 1px 3px 1px rgba(60, 64, 67, 0.15);\n",
              "      fill: #174EA6;\n",
              "    }\n",
              "\n",
              "    [theme=dark] .colab-df-convert {\n",
              "      background-color: #3B4455;\n",
              "      fill: #D2E3FC;\n",
              "    }\n",
              "\n",
              "    [theme=dark] .colab-df-convert:hover {\n",
              "      background-color: #434B5C;\n",
              "      box-shadow: 0px 1px 3px 1px rgba(0, 0, 0, 0.15);\n",
              "      filter: drop-shadow(0px 1px 2px rgba(0, 0, 0, 0.3));\n",
              "      fill: #FFFFFF;\n",
              "    }\n",
              "  </style>\n",
              "\n",
              "      <script>\n",
              "        const buttonEl =\n",
              "          document.querySelector('#df-41c95cff-3094-41ed-bbf6-758fe7d864a4 button.colab-df-convert');\n",
              "        buttonEl.style.display =\n",
              "          google.colab.kernel.accessAllowed ? 'block' : 'none';\n",
              "\n",
              "        async function convertToInteractive(key) {\n",
              "          const element = document.querySelector('#df-41c95cff-3094-41ed-bbf6-758fe7d864a4');\n",
              "          const dataTable =\n",
              "            await google.colab.kernel.invokeFunction('convertToInteractive',\n",
              "                                                     [key], {});\n",
              "          if (!dataTable) return;\n",
              "\n",
              "          const docLinkHtml = 'Like what you see? Visit the ' +\n",
              "            '<a target=\"_blank\" href=https://colab.research.google.com/notebooks/data_table.ipynb>data table notebook</a>'\n",
              "            + ' to learn more about interactive tables.';\n",
              "          element.innerHTML = '';\n",
              "          dataTable['output_type'] = 'display_data';\n",
              "          await google.colab.output.renderOutput(dataTable, element);\n",
              "          const docLink = document.createElement('div');\n",
              "          docLink.innerHTML = docLinkHtml;\n",
              "          element.appendChild(docLink);\n",
              "        }\n",
              "      </script>\n",
              "    </div>\n",
              "  </div>\n",
              "  "
            ]
          },
          "metadata": {},
          "execution_count": 77
        }
      ]
    },
    {
      "cell_type": "code",
      "source": [
        "df_2[\"Prediction\"].plot(kind=\"barh\")"
      ],
      "metadata": {
        "colab": {
          "base_uri": "https://localhost:8080/",
          "height": 295
        },
        "id": "34vPPRjSyucI",
        "outputId": "d90eb542-fd91-4051-9b7a-04f94220d682"
      },
      "execution_count": null,
      "outputs": [
        {
          "output_type": "execute_result",
          "data": {
            "text/plain": [
              "<matplotlib.axes._subplots.AxesSubplot at 0x7f02cdd13f50>"
            ]
          },
          "metadata": {},
          "execution_count": 96
        },
        {
          "output_type": "display_data",
          "data": {
            "text/plain": [
              "<Figure size 432x288 with 1 Axes>"
            ],
            "image/png": "[encoded data removed]"
          },
          "metadata": {
            "needs_background": "light"
          }
        }
      ]
    }
  ]
}